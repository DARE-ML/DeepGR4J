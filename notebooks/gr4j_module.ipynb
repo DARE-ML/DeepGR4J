{
 "cells": [
  {
   "cell_type": "code",
   "execution_count": 39,
   "metadata": {},
   "outputs": [],
   "source": [
    "import os\n",
    "\n",
    "import matplotlib.pyplot as plt\n",
    "import pandas as pd\n",
    "import numpy as np\n",
    "\n",
    "import torch\n",
    "import torch.nn as nn\n",
    "import torch.distributions as dist"
   ]
  },
  {
   "cell_type": "code",
   "execution_count": 40,
   "metadata": {},
   "outputs": [],
   "source": [
    "class GR4J(nn.Module):\n",
    "\n",
    "    def __init__(self, s_init=0, r_init=0):\n",
    "        super(GR4J, self).__init__()\n",
    "        self.s_init = s_init\n",
    "        self.r_init = r_init\n",
    "        self.x1 = nn.Parameter(dist.uniform.Uniform(100, 1200).sample())\n",
    "        self.h1 = nn.Linear(4, 16)\n",
    "        self.o = nn.Linear(16, 1)\n",
    "\n",
    "    \n",
    "    def forward(self, prec, etp):\n",
    "        \n",
    "        # Number of simulation timesteps\n",
    "        num_timesteps = len(prec)\n",
    "        \n",
    "        # Unpack the model parameters\n",
    "        x1 = self.x1\n",
    "\n",
    "        # Production Storage\n",
    "        p_n = torch.relu(prec - etp)\n",
    "        e_n = torch.relu(etp - prec)\n",
    "\n",
    "        # Production store\n",
    "        num_timesteps = len(prec)\n",
    "        p_s = torch.zeros(num_timesteps)\n",
    "        e_s = torch.zeros(num_timesteps)\n",
    "        perc = torch.zeros(num_timesteps)\n",
    "        s_store = torch.zeros(num_timesteps + 1)\n",
    "        s_store[0] = self.s_init * x1\n",
    "\n",
    "        for t in range(num_timesteps):\n",
    "            # calculate fraction of netto precipitation that fills\n",
    "            #  production store (eq. 3)\n",
    "            p_s[t] = ((x1 * (1 - (s_store[t-1] / x1)**2) * torch.tanh(p_n[t]/x1)) /\n",
    "                (1 + s_store[t-1] / x1 * torch.tanh(p_n[t] / x1)))\n",
    "\n",
    "            # from the production store (eq. 4)\n",
    "            e_s[t] = ((s_store[t-1] * (2 - s_store[t-1]/x1) * torch.tanh(e_n[t]/x1)) \n",
    "                / (1 + (1 - s_store[t-1] / x1) * torch.tanh(e_n[t] / x1)))\n",
    "\n",
    "            s_store[t] = s_store[t - 1] + p_s[t] - e_s[t]\n",
    "\n",
    "\n",
    "\n",
    "\n",
    "\n",
    "           \n",
    "        # return all but the artificial 0's step\n",
    "        return "
   ]
  },
  {
   "cell_type": "code",
   "execution_count": 41,
   "metadata": {},
   "outputs": [],
   "source": [
    "data_location = os.path.join('/data')"
   ]
  },
  {
   "cell_type": "code",
   "execution_count": 42,
   "metadata": {},
   "outputs": [],
   "source": [
    "# Calibration period\n",
    "calib_start_year = 1990\n",
    "calib_end_year = 2000\n",
    "\n",
    "# Holdout period\n",
    "holdout_start_year = 2000\n",
    "holdout_end_year = 2005"
   ]
  },
  {
   "cell_type": "code",
   "execution_count": 43,
   "metadata": {},
   "outputs": [],
   "source": [
    "# Load the data\n",
    "maulescreek_rain_et = pd.read_csv(\n",
    "    os.path.join(\n",
    "        data_location,\n",
    "        'SILO(-30.5,150.1)',\n",
    "        'FAO56_Penman_Monteith_1989.csv'\n",
    "    )\n",
    ")\n",
    "maulescreek_streamflow = pd.read_csv(\n",
    "    os.path.join(\n",
    "        data_location,\n",
    "        'water_level',\n",
    "        'bom_gauge_daily_mean_419051.csv'\n",
    "    )\n",
    ")\n",
    "\n",
    "# fix dates \n",
    "maulescreek_rain_et['Date'] = pd.to_datetime(maulescreek_rain_et['Date2'],format=\"%d-%m-%Y\")\n",
    "maulescreek_streamflow['Date'] = pd.to_datetime(maulescreek_streamflow['Timestamp'],utc=True, format='%Y-%m-%d')\n",
    "maulescreek_streamflow['Date'] = maulescreek_streamflow['Date'].dt.date\n",
    "maulescreek_streamflow['Date'] = pd.to_datetime(maulescreek_streamflow['Date'])"
   ]
  },
  {
   "cell_type": "code",
   "execution_count": 44,
   "metadata": {},
   "outputs": [],
   "source": [
    "# \n",
    "merged_data = pd.merge(\n",
    "    maulescreek_rain_et,\n",
    "    maulescreek_streamflow,\n",
    "    left_on='Date',\n",
    "    right_on='Date'\n",
    ")\n",
    "\n",
    "# Slicing the data into calibration and holdout\n",
    "calibration_data = merged_data.loc[((merged_data['Date']).dt.year >= calib_start_year) & ((merged_data['Date']).dt.year < calib_end_year)].reset_index(drop=True)\n",
    "\n",
    "holdout_data = merged_data.loc[((merged_data['Date']).dt.year >= holdout_start_year) & ((merged_data['Date']).dt.year < holdout_end_year)].reset_index(drop=True)"
   ]
  },
  {
   "cell_type": "code",
   "execution_count": 45,
   "metadata": {},
   "outputs": [],
   "source": [
    "# Tune GR4J parameters\n",
    "prcp_calib = torch.from_numpy(calibration_data.loc[:, 'Rain'].values)\n",
    "et_calib = torch.from_numpy(calibration_data.loc[:, 'FAO56'].values)\n",
    "flow_calib = torch.from_numpy(calibration_data.loc[:, 'Value'].values)\n",
    "date_calib = calibration_data.loc[:, 'Date'].values\n"
   ]
  },
  {
   "cell_type": "code",
   "execution_count": 48,
   "metadata": {},
   "outputs": [],
   "source": [
    "model = GR4J()\n",
    "result = model(prec=prcp_calib, etp=et_calib)"
   ]
  },
  {
   "cell_type": "code",
   "execution_count": 32,
   "metadata": {},
   "outputs": [
    {
     "data": {
      "text/plain": [
       "tensor([0.0000, 0.0000, 0.0000,  ..., 0.5894, 0.5838, 0.5781],\n",
       "       grad_fn=<SliceBackward0>)"
      ]
     },
     "execution_count": 32,
     "metadata": {},
     "output_type": "execute_result"
    }
   ],
   "source": [
    "result[0]"
   ]
  },
  {
   "cell_type": "code",
   "execution_count": 53,
   "metadata": {},
   "outputs": [],
   "source": [
    "def nse(targets, predictions):\n",
    "    return 1-(torch.sum((targets-predictions)**2)/torch.sum((targets-torch.mean(targets))**2))\n",
    "\n",
    "def nnse(targets, predictions):\n",
    "    return 1/(2 - nse(targets, predictions))\n",
    "\n",
    "def evaluate(model, dates, et, prcp, flow):\n",
    "    \n",
    "    flow_pred = model(prcp, et)[0]\n",
    "\n",
    "    nse_score = nse(flow, flow_pred)\n",
    "    nnse_score = nnse(flow, flow_pred)\n",
    "\n",
    "    print(f\"NSE: {nse_score:.3f}\")\n",
    "    print(f\"Normalized NSE: {nnse_score:.3f}\")\n",
    "\n",
    "    fig, ax = plt.subplots(figsize=(16, 6))\n",
    "    ax.plot(dates, flow.numpy(), label='obs')\n",
    "    ax.plot(dates, flow_pred.detach().numpy(), label='pred')\n",
    "\n",
    "    ax.set_xlabel('Date')\n",
    "    ax.set_ylabel('Flow')\n",
    "\n",
    "    plt.legend()"
   ]
  },
  {
   "cell_type": "code",
   "execution_count": 54,
   "metadata": {},
   "outputs": [
    {
     "name": "stdout",
     "output_type": "stream",
     "text": [
      "NSE: -0.009\n",
      "Normalized NSE: 0.498\n"
     ]
    },
    {
     "data": {
      "image/png": "[encoded data removed]",
      "text/plain": [
       "<Figure size 1600x600 with 1 Axes>"
      ]
     },
     "metadata": {},
     "output_type": "display_data"
    }
   ],
   "source": [
    "evaluate(model, date_calib,  et_calib, prcp_calib, flow_calib)"
   ]
  },
  {
   "cell_type": "code",
   "execution_count": 55,
   "metadata": {},
   "outputs": [
    {
     "name": "stdout",
     "output_type": "stream",
     "text": [
      "NSE: -0.001\n",
      "Normalized NSE: 0.500\n"
     ]
    },
    {
     "data": {
      "image/png": "[encoded data removed]",
      "text/plain": [
       "<Figure size 1600x600 with 1 Axes>"
      ]
     },
     "metadata": {},
     "output_type": "display_data"
    }
   ],
   "source": [
    "# Evaluate on unseen data\n",
    "prcp_holdout = torch.from_numpy(holdout_data.loc[:, 'Rain'].values)\n",
    "et_holdout= torch.from_numpy(holdout_data.loc[:, 'FAO56'].values)\n",
    "flow_holdout = torch.from_numpy(holdout_data.loc[:, 'Value'].values)\n",
    "date_holdout = holdout_data.loc[:, 'Date'].values\n",
    "\n",
    "evaluate(model, date_holdout,  et_holdout, prcp_holdout, flow_holdout)\n"
   ]
  },
  {
   "cell_type": "code",
   "execution_count": 56,
   "metadata": {},
   "outputs": [],
   "source": [
    "from torch.utils.data import TensorDataset, DataLoader\n",
    "\n",
    "train_set = TensorDataset(\n",
    "    prcp_calib,\n",
    "    et_calib,\n",
    "    flow_calib\n",
    ")\n",
    "\n",
    "train_loader = DataLoader(train_set, batch_size=128)"
   ]
  },
  {
   "cell_type": "code",
   "execution_count": 57,
   "metadata": {},
   "outputs": [],
   "source": [
    "opt = torch.optim.Adam(model.parameters(), lr=0.01)\n"
   ]
  },
  {
   "cell_type": "code",
   "execution_count": 58,
   "metadata": {},
   "outputs": [
    {
     "ename": "RuntimeError",
     "evalue": "one of the variables needed for gradient computation has been modified by an inplace operation: [torch.FloatTensor []], which is output 0 of AsStridedBackward0, is at version 257; expected version 256 instead. Hint: enable anomaly detection to find the operation that failed to compute its gradient, with torch.autograd.set_detect_anomaly(True).",
     "output_type": "error",
     "traceback": [
      "\u001b[0;31m---------------------------------------------------------------------------\u001b[0m",
      "\u001b[0;31mRuntimeError\u001b[0m                              Traceback (most recent call last)",
      "\u001b[1;32m/workspaces/hybrid-gr4j/notebooks/gr4j.ipynb Cell 15\u001b[0m in \u001b[0;36m<cell line: 1>\u001b[0;34m()\u001b[0m\n\u001b[1;32m      <a href='vscode-notebook-cell://dev-container%2B633a5c55736572735c7a353337303030335c4f6e654472697665202d20554e53575c5368617265645c50726f6a656374735c5068445c6879627269642d6772346a/workspaces/hybrid-gr4j/notebooks/gr4j.ipynb#X25sdnNjb2RlLXJlbW90ZQ%3D%3D?line=6'>7</a>\u001b[0m     pred_flow \u001b[39m=\u001b[39m model(prcp, et)[\u001b[39m0\u001b[39m]\n\u001b[1;32m      <a href='vscode-notebook-cell://dev-container%2B633a5c55736572735c7a353337303030335c4f6e654472697665202d20554e53575c5368617265645c50726f6a656374735c5068445c6879627269642d6772346a/workspaces/hybrid-gr4j/notebooks/gr4j.ipynb#X25sdnNjb2RlLXJlbW90ZQ%3D%3D?line=8'>9</a>\u001b[0m     loss \u001b[39m=\u001b[39m nnse(flow, pred_flow)\n\u001b[0;32m---> <a href='vscode-notebook-cell://dev-container%2B633a5c55736572735c7a353337303030335c4f6e654472697665202d20554e53575c5368617265645c50726f6a656374735c5068445c6879627269642d6772346a/workspaces/hybrid-gr4j/notebooks/gr4j.ipynb#X25sdnNjb2RlLXJlbW90ZQ%3D%3D?line=10'>11</a>\u001b[0m     loss\u001b[39m.\u001b[39;49mbackward()\n\u001b[1;32m     <a href='vscode-notebook-cell://dev-container%2B633a5c55736572735c7a353337303030335c4f6e654472697665202d20554e53575c5368617265645c50726f6a656374735c5068445c6879627269642d6772346a/workspaces/hybrid-gr4j/notebooks/gr4j.ipynb#X25sdnNjb2RlLXJlbW90ZQ%3D%3D?line=12'>13</a>\u001b[0m opt\u001b[39m.\u001b[39mstep()\n",
      "File \u001b[0;32m/opt/conda/lib/python3.9/site-packages/torch/_tensor.py:307\u001b[0m, in \u001b[0;36mTensor.backward\u001b[0;34m(self, gradient, retain_graph, create_graph, inputs)\u001b[0m\n\u001b[1;32m    298\u001b[0m \u001b[39mif\u001b[39;00m has_torch_function_unary(\u001b[39mself\u001b[39m):\n\u001b[1;32m    299\u001b[0m     \u001b[39mreturn\u001b[39;00m handle_torch_function(\n\u001b[1;32m    300\u001b[0m         Tensor\u001b[39m.\u001b[39mbackward,\n\u001b[1;32m    301\u001b[0m         (\u001b[39mself\u001b[39m,),\n\u001b[0;32m   (...)\u001b[0m\n\u001b[1;32m    305\u001b[0m         create_graph\u001b[39m=\u001b[39mcreate_graph,\n\u001b[1;32m    306\u001b[0m         inputs\u001b[39m=\u001b[39minputs)\n\u001b[0;32m--> 307\u001b[0m torch\u001b[39m.\u001b[39;49mautograd\u001b[39m.\u001b[39;49mbackward(\u001b[39mself\u001b[39;49m, gradient, retain_graph, create_graph, inputs\u001b[39m=\u001b[39;49minputs)\n",
      "File \u001b[0;32m/opt/conda/lib/python3.9/site-packages/torch/autograd/__init__.py:154\u001b[0m, in \u001b[0;36mbackward\u001b[0;34m(tensors, grad_tensors, retain_graph, create_graph, grad_variables, inputs)\u001b[0m\n\u001b[1;32m    151\u001b[0m \u001b[39mif\u001b[39;00m retain_graph \u001b[39mis\u001b[39;00m \u001b[39mNone\u001b[39;00m:\n\u001b[1;32m    152\u001b[0m     retain_graph \u001b[39m=\u001b[39m create_graph\n\u001b[0;32m--> 154\u001b[0m Variable\u001b[39m.\u001b[39;49m_execution_engine\u001b[39m.\u001b[39;49mrun_backward(\n\u001b[1;32m    155\u001b[0m     tensors, grad_tensors_, retain_graph, create_graph, inputs,\n\u001b[1;32m    156\u001b[0m     allow_unreachable\u001b[39m=\u001b[39;49m\u001b[39mTrue\u001b[39;49;00m, accumulate_grad\u001b[39m=\u001b[39;49m\u001b[39mTrue\u001b[39;49;00m)\n",
      "\u001b[0;31mRuntimeError\u001b[0m: one of the variables needed for gradient computation has been modified by an inplace operation: [torch.FloatTensor []], which is output 0 of AsStridedBackward0, is at version 257; expected version 256 instead. Hint: enable anomaly detection to find the operation that failed to compute its gradient, with torch.autograd.set_detect_anomaly(True)."
     ]
    }
   ],
   "source": [
    "for epoch in range(100):\n",
    "\n",
    "    opt.zero_grad()\n",
    "\n",
    "    for prcp, et, flow in train_loader:\n",
    "\n",
    "        pred_flow = model(prcp, et)[0]\n",
    "\n",
    "        loss = nnse(flow, pred_flow)\n",
    "\n",
    "        loss.backward()\n",
    "\n",
    "    opt.step()"
   ]
  },
  {
   "cell_type": "code",
   "execution_count": null,
   "metadata": {},
   "outputs": [],
   "source": []
  }
 ],
 "metadata": {
  "kernelspec": {
   "display_name": "Python 3.9.12 ('base')",
   "language": "python",
   "name": "python3"
  },
  "language_info": {
   "codemirror_mode": {
    "name": "ipython",
    "version": 3
   },
   "file_extension": ".py",
   "mimetype": "text/x-python",
   "name": "python",
   "nbconvert_exporter": "python",
   "pygments_lexer": "ipython3",
   "version": "3.9.12"
  },
  "orig_nbformat": 4,
  "vscode": {
   "interpreter": {
    "hash": "d4d1e4263499bec80672ea0156c357c1ee493ec2b1c70f0acce89fc37c4a6abe"
   }
  }
 },
 "nbformat": 4,
 "nbformat_minor": 2
}
