{
 "cells": [
  {
   "cell_type": "code",
   "execution_count": 1,
   "metadata": {},
   "outputs": [],
   "source": [
    "import pandas as pd\n",
    "import numpy as np\n",
    "\n",
    "from rrmpg.models import GR4J"
   ]
  },
  {
   "cell_type": "code",
   "execution_count": 27,
   "metadata": {},
   "outputs": [],
   "source": [
    "import os"
   ]
  },
  {
   "cell_type": "code",
   "execution_count": 3,
   "metadata": {},
   "outputs": [],
   "source": [
    "data_location = os.path.join('/data')\n",
    "y_h = 1997  # End year\n",
    "y_l = 1990  # Start year"
   ]
  },
  {
   "cell_type": "code",
   "execution_count": 4,
   "metadata": {},
   "outputs": [],
   "source": [
    "# Load the data\n",
    "maulescreek_rain_et = pd.read_csv(\n",
    "    os.path.join(\n",
    "        data_location,\n",
    "        'SILO(-30.5,150.1)',\n",
    "        'FAO56_Penman_Monteith_1989.csv'\n",
    "    )\n",
    ")\n",
    "maulescreek_streamflow = pd.read_csv(\n",
    "    os.path.join(\n",
    "        data_location,\n",
    "        'water_level',\n",
    "        'bom_gauge_daily_mean_419051.csv'\n",
    "    )\n",
    ")\n",
    "\n",
    "# fix dates \n",
    "maulescreek_rain_et['Date'] = pd.to_datetime(maulescreek_rain_et['Date2'],format=\"%d-%m-%Y\")\n",
    "maulescreek_streamflow['Date'] = pd.to_datetime(maulescreek_streamflow['Timestamp'],utc=True, format='%Y-%m-%d')\n",
    "maulescreek_streamflow['Date'] = maulescreek_streamflow['Date'].dt.date\n",
    "maulescreek_streamflow['Date'] = pd.to_datetime(maulescreek_streamflow['Date'])\n",
    "\n",
    "# Slicing the data for relevant time periods\n",
    "rain = maulescreek_rain_et[((maulescreek_rain_et['Date']).dt.year >y_l) & ((maulescreek_rain_et['Date']).dt.year <y_h)]['Rain'].values\n",
    "et = maulescreek_rain_et[((maulescreek_rain_et['Date']).dt.year >y_l) & ((maulescreek_rain_et['Date']).dt.year <y_h)]['FAO56'].values\n",
    "streamflow = maulescreek_streamflow[((maulescreek_streamflow['Date']).dt.year >y_l) & ((maulescreek_streamflow['Date']).dt.year <y_h)]['Value'].values\n",
    "dates = maulescreek_rain_et[((maulescreek_rain_et['Date']).dt.year >y_l) & ((maulescreek_rain_et['Date']).dt.year <y_h)]['Date']\n",
    "dates = dates.reset_index()"
   ]
  },
  {
   "cell_type": "code",
   "execution_count": 6,
   "metadata": {},
   "outputs": [
    {
     "data": {
      "text/plain": [
       "{'x1': 945.7253286548652,\n",
       " 'x2': -2.8098829411084223,\n",
       " 'x3': 299.2074529300801,\n",
       " 'x4': 2.544049524726632}"
      ]
     },
     "execution_count": 6,
     "metadata": {},
     "output_type": "execute_result"
    }
   ],
   "source": [
    "model = GR4J()\n",
    "model.get_params()"
   ]
  },
  {
   "cell_type": "code",
   "execution_count": 8,
   "metadata": {},
   "outputs": [],
   "source": [
    "maulescreek_rain_et_2010_2015 = maulescreek_rain_et[(maulescreek_rain_et['Date'] >= '2010-01-01') & (maulescreek_rain_et['Date'] < '2016-01-01')]\n",
    "\n",
    "maulescreek_streamflow_2010_2015 = maulescreek_streamflow[(maulescreek_streamflow['Date'] >= '2009-12-31') & (maulescreek_streamflow['Date'] < '2015-12-31')]"
   ]
  },
  {
   "cell_type": "code",
   "execution_count": 16,
   "metadata": {},
   "outputs": [],
   "source": [
    "flow1 = maulescreek_streamflow_2010_2015['Value'].values\n",
    "prcp1 = maulescreek_rain_et_2010_2015['Rain'].values\n",
    "et1 = maulescreek_rain_et_2010_2015['FAO56'].values"
   ]
  },
  {
   "cell_type": "code",
   "execution_count": 25,
   "metadata": {},
   "outputs": [],
   "source": [
    "result = model.fit(flow1, prcp1, et1)"
   ]
  },
  {
   "cell_type": "code",
   "execution_count": 26,
   "metadata": {},
   "outputs": [
    {
     "data": {
      "text/plain": [
       "{'x1': 100.0, 'x2': 2.4695478295877824, 'x3': 20.0, 'x4': 1.1}"
      ]
     },
     "execution_count": 26,
     "metadata": {},
     "output_type": "execute_result"
    }
   ],
   "source": [
    "params = {}\n",
    "\n",
    "param_names = model.get_parameter_names()\n",
    "\n",
    "for i, param in enumerate(param_names):\n",
    "    params[param] = result.x[i]\n",
    "\n",
    "# This line set the model parameters to the ones specified in the dict\n",
    "model.set_params(params)\n",
    "\n",
    "# To be sure, let's look at the current model parameters\n",
    "model.get_params()"
   ]
  },
  {
   "cell_type": "code",
   "execution_count": 32,
   "metadata": {},
   "outputs": [],
   "source": [
    "flow_pred = model.simulate(prcp1, et1)"
   ]
  },
  {
   "cell_type": "code",
   "execution_count": 34,
   "metadata": {},
   "outputs": [
    {
     "data": {
      "text/plain": [
       "<matplotlib.legend.Legend at 0x7f67b9a88a00>"
      ]
     },
     "execution_count": 34,
     "metadata": {},
     "output_type": "execute_result"
    },
    {
     "data": {
      "image/png": "[encoded data removed]",
      "text/plain": [
       "<Figure size 640x480 with 1 Axes>"
      ]
     },
     "metadata": {},
     "output_type": "display_data"
    }
   ],
   "source": [
    "import matplotlib.pyplot as plt\n",
    "plt.plot(flow1, label='obs')\n",
    "plt.plot(flow_pred, label='pred')\n",
    "plt.legend()"
   ]
  },
  {
   "cell_type": "code",
   "execution_count": null,
   "metadata": {},
   "outputs": [],
   "source": []
  }
 ],
 "metadata": {
  "kernelspec": {
   "display_name": "Python 3.9.12 ('base')",
   "language": "python",
   "name": "python3"
  },
  "language_info": {
   "codemirror_mode": {
    "name": "ipython",
    "version": 3
   },
   "file_extension": ".py",
   "mimetype": "text/x-python",
   "name": "python",
   "nbconvert_exporter": "python",
   "pygments_lexer": "ipython3",
   "version": "3.9.12"
  },
  "orig_nbformat": 4,
  "vscode": {
   "interpreter": {
    "hash": "d4d1e4263499bec80672ea0156c357c1ee493ec2b1c70f0acce89fc37c4a6abe"
   }
  }
 },
 "nbformat": 4,
 "nbformat_minor": 2
}
