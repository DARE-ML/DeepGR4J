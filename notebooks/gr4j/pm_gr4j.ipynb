{
 "cells": [
  {
   "cell_type": "code",
   "execution_count": 1,
   "metadata": {},
   "outputs": [],
   "source": [
    "import matplotlib.pyplot as plt\n",
    "import numpy as np\n",
    "import pandas as pd\n",
    "\n",
    "import pymc3 as pm\n",
    "import theano\n",
    "\n",
    "np.random.seed(42)\n",
    "%matplotlib inline\n",
    "\n",
    "import os\n",
    "import sys\n",
    "sys.path.append('../')"
   ]
  },
  {
   "cell_type": "code",
   "execution_count": 2,
   "metadata": {},
   "outputs": [],
   "source": [
    "%load_ext autoreload"
   ]
  },
  {
   "cell_type": "code",
   "execution_count": 3,
   "metadata": {},
   "outputs": [
    {
     "ename": "ModuleNotFoundError",
     "evalue": "No module named 'model'",
     "output_type": "error",
     "traceback": [
      "\u001b[0;31m---------------------------------------------------------------------------\u001b[0m",
      "\u001b[0;31mModuleNotFoundError\u001b[0m                       Traceback (most recent call last)",
      "Cell \u001b[0;32mIn [3], line 1\u001b[0m\n\u001b[0;32m----> 1\u001b[0m \u001b[39mfrom\u001b[39;00m \u001b[39mmodel\u001b[39;00m\u001b[39m.\u001b[39;00m\u001b[39mgr4j_np\u001b[39;00m \u001b[39mimport\u001b[39;00m GR4J\n",
      "\u001b[0;31mModuleNotFoundError\u001b[0m: No module named 'model'"
     ]
    }
   ],
   "source": [
    "from model.gr4j_np import GR4J"
   ]
  },
  {
   "cell_type": "code",
   "execution_count": null,
   "metadata": {},
   "outputs": [],
   "source": [
    "data_location = os.path.join('/data')"
   ]
  },
  {
   "cell_type": "code",
   "execution_count": null,
   "metadata": {},
   "outputs": [],
   "source": [
    "# Calibration period\n",
    "calib_start_year = 1990\n",
    "calib_end_year = 2000\n",
    "\n",
    "# Holdout period\n",
    "holdout_start_year = 2000\n",
    "holdout_end_year = 2005"
   ]
  },
  {
   "cell_type": "code",
   "execution_count": null,
   "metadata": {},
   "outputs": [],
   "source": [
    "# Load the data\n",
    "maulescreek_rain_et = pd.read_csv(\n",
    "    os.path.join(\n",
    "        data_location,\n",
    "        'SILO(-30.5,150.1)',\n",
    "        'FAO56_Penman_Monteith_1989.csv'\n",
    "    )\n",
    ")\n",
    "maulescreek_streamflow = pd.read_csv(\n",
    "    os.path.join(\n",
    "        data_location,\n",
    "        'water_level',\n",
    "        'bom_gauge_daily_mean_419051.csv'\n",
    "    )\n",
    ")\n",
    "\n",
    "# fix dates \n",
    "maulescreek_rain_et['Date'] = pd.to_datetime(maulescreek_rain_et['Date2'],format=\"%d-%m-%Y\")\n",
    "maulescreek_streamflow['Date'] = pd.to_datetime(maulescreek_streamflow['Timestamp'],utc=True, format='%Y-%m-%d')\n",
    "maulescreek_streamflow['Date'] = maulescreek_streamflow['Date'].dt.date\n",
    "maulescreek_streamflow['Date'] = pd.to_datetime(maulescreek_streamflow['Date'])"
   ]
  },
  {
   "cell_type": "code",
   "execution_count": null,
   "metadata": {},
   "outputs": [],
   "source": [
    "# \n",
    "merged_data = pd.merge(\n",
    "    maulescreek_rain_et,\n",
    "    maulescreek_streamflow,\n",
    "    left_on='Date',\n",
    "    right_on='Date'\n",
    ")\n",
    "\n",
    "# Slicing the data into calibration and holdout\n",
    "calibration_data = merged_data.loc[((merged_data['Date']).dt.year >= calib_start_year) & ((merged_data['Date']).dt.year < calib_end_year)].reset_index(drop=True)\n",
    "\n",
    "holdout_data = merged_data.loc[((merged_data['Date']).dt.year >= holdout_start_year) & ((merged_data['Date']).dt.year < holdout_end_year)].reset_index(drop=True)"
   ]
  },
  {
   "cell_type": "code",
   "execution_count": null,
   "metadata": {},
   "outputs": [],
   "source": [
    "# Tune GR4J parameters\n",
    "prcp_calib = calibration_data.loc[:, 'Rain'].values\n",
    "etp_calib = calibration_data.loc[:, 'FAO56'].values\n",
    "flow_calib = calibration_data.loc[:, 'Value'].values\n",
    "date_calib = calibration_data.loc[:, 'Date'].values"
   ]
  },
  {
   "cell_type": "code",
   "execution_count": null,
   "metadata": {},
   "outputs": [],
   "source": [
    "eps = 0.1"
   ]
  },
  {
   "cell_type": "code",
   "execution_count": null,
   "metadata": {},
   "outputs": [
    {
     "ename": "TypeError",
     "evalue": "'TensorVariable' object cannot be interpreted as an integer",
     "output_type": "error",
     "traceback": [
      "\u001b[0;31m---------------------------------------------------------------------------\u001b[0m",
      "\u001b[0;31mTypeError\u001b[0m                                 Traceback (most recent call last)",
      "\u001b[1;32m/workspaces/hybrid-gr4j/notebooks/pm_gr4j.ipynb Cell 10\u001b[0m in \u001b[0;36m<cell line: 3>\u001b[0;34m()\u001b[0m\n\u001b[1;32m      <a href='vscode-notebook-cell://dev-container%2B633a5c55736572735c7a353337303030335c4f6e654472697665202d20554e53575c5368617265645c50726f6a656374735c5068445c6879627269642d6772346a/workspaces/hybrid-gr4j/notebooks/pm_gr4j.ipynb#X11sdnNjb2RlLXJlbW90ZQ%3D%3D?line=8'>9</a>\u001b[0m s \u001b[39m=\u001b[39m pm\u001b[39m.\u001b[39mExponential(\u001b[39m'\u001b[39m\u001b[39merror\u001b[39m\u001b[39m'\u001b[39m, \u001b[39m1\u001b[39m)\n\u001b[1;32m     <a href='vscode-notebook-cell://dev-container%2B633a5c55736572735c7a353337303030335c4f6e654472697665202d20554e53575c5368617265645c50726f6a656374735c5068445c6879627269642d6772346a/workspaces/hybrid-gr4j/notebooks/pm_gr4j.ipynb#X11sdnNjb2RlLXJlbW90ZQ%3D%3D?line=10'>11</a>\u001b[0m gr4j\u001b[39m.\u001b[39mupdate_params(x1, x2, x3, x4)\n\u001b[0;32m---> <a href='vscode-notebook-cell://dev-container%2B633a5c55736572735c7a353337303030335c4f6e654472697665202d20554e53575c5368617265645c50726f6a656374735c5068445c6879627269642d6772346a/workspaces/hybrid-gr4j/notebooks/pm_gr4j.ipynb#X11sdnNjb2RlLXJlbW90ZQ%3D%3D?line=12'>13</a>\u001b[0m q_hat \u001b[39m=\u001b[39m gr4j\u001b[39m.\u001b[39;49mrun(prcp_calib, etp_calib)[\u001b[39m0\u001b[39m]\n\u001b[1;32m     <a href='vscode-notebook-cell://dev-container%2B633a5c55736572735c7a353337303030335c4f6e654472697665202d20554e53575c5368617265645c50726f6a656374735c5068445c6879627269642d6772346a/workspaces/hybrid-gr4j/notebooks/pm_gr4j.ipynb#X11sdnNjb2RlLXJlbW90ZQ%3D%3D?line=14'>15</a>\u001b[0m \u001b[39m# predictions\u001b[39;00m\n\u001b[1;32m     <a href='vscode-notebook-cell://dev-container%2B633a5c55736572735c7a353337303030335c4f6e654472697665202d20554e53575c5368617265645c50726f6a656374735c5068445c6879627269642d6772346a/workspaces/hybrid-gr4j/notebooks/pm_gr4j.ipynb#X11sdnNjb2RlLXJlbW90ZQ%3D%3D?line=15'>16</a>\u001b[0m obs \u001b[39m=\u001b[39m pm\u001b[39m.\u001b[39mNormal(\u001b[39m'\u001b[39m\u001b[39mobservation\u001b[39m\u001b[39m'\u001b[39m, q_hat, s, observed\u001b[39m=\u001b[39mflow_calib)\n",
      "File \u001b[0;32m/workspaces/hybrid-gr4j/notebooks/../model/gr4j_np.py:90\u001b[0m, in \u001b[0;36mGR4J.run\u001b[0;34m(self, prec, etp)\u001b[0m\n\u001b[1;32m     87\u001b[0m uh1_ordinates \u001b[39m=\u001b[39m []\n\u001b[1;32m     88\u001b[0m uh2_ordinates \u001b[39m=\u001b[39m []\n\u001b[0;32m---> 90\u001b[0m \u001b[39mfor\u001b[39;00m j \u001b[39min\u001b[39;00m \u001b[39mrange\u001b[39;49m(\u001b[39m1\u001b[39;49m, num_uh1 \u001b[39m+\u001b[39;49m \u001b[39m1\u001b[39;49m):\n\u001b[1;32m     91\u001b[0m     uh1_ordinates\u001b[39m.\u001b[39mappend(\u001b[39mself\u001b[39m\u001b[39m.\u001b[39m_s_curve1(j, x4) \u001b[39m-\u001b[39m \u001b[39mself\u001b[39m\u001b[39m.\u001b[39m_s_curve1(j \u001b[39m-\u001b[39m \u001b[39m1\u001b[39m, x4))\n\u001b[1;32m     93\u001b[0m \u001b[39mfor\u001b[39;00m j \u001b[39min\u001b[39;00m \u001b[39mrange\u001b[39m(\u001b[39m1\u001b[39m, num_uh2 \u001b[39m+\u001b[39m \u001b[39m1\u001b[39m):\n",
      "\u001b[0;31mTypeError\u001b[0m: 'TensorVariable' object cannot be interpreted as an integer"
     ]
    }
   ],
   "source": [
    "gr4j = GR4J()\n",
    "\n",
    "with pm.Model() as model:\n",
    "\n",
    "    x1 = pm.Normal('x1', 400, 100)\n",
    "    x2 = pm.Normal('x2', 0, 16)\n",
    "    x3 = pm.Normal('x3', 100, 64)\n",
    "    x4 = pm.InverseGamma('x4', alpha=1, beta=1)\n",
    "    s = pm.Exponential('error', 1)\n",
    "    \n",
    "    gr4j.update_params(x1, x2, x3, x4)\n",
    "\n",
    "    q_hat = gr4j.run(prcp_calib, etp_calib)[0]\n",
    "\n",
    "    # predictions\n",
    "    obs = pm.Normal('observation', q_hat, s, observed=flow_calib)\n",
    "\n",
    "    # use MCMC to sample\n",
    "    trace = pm.sample(step=pm.Metropolis([x1, x2, x3, x4, s]))\n",
    "\n"
   ]
  },
  {
   "cell_type": "code",
   "execution_count": null,
   "metadata": {},
   "outputs": [],
   "source": []
  }
 ],
 "metadata": {
  "kernelspec": {
   "display_name": "Python 3.9.12 ('base')",
   "language": "python",
   "name": "python3"
  },
  "language_info": {
   "codemirror_mode": {
    "name": "ipython",
    "version": 3
   },
   "file_extension": ".py",
   "mimetype": "text/x-python",
   "name": "python",
   "nbconvert_exporter": "python",
   "pygments_lexer": "ipython3",
   "version": "3.9.12"
  },
  "orig_nbformat": 4,
  "vscode": {
   "interpreter": {
    "hash": "d4d1e4263499bec80672ea0156c357c1ee493ec2b1c70f0acce89fc37c4a6abe"
   }
  }
 },
 "nbformat": 4,
 "nbformat_minor": 2
}
