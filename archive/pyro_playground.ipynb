{
 "cells": [
  {
   "cell_type": "code",
   "execution_count": 1,
   "metadata": {},
   "outputs": [],
   "source": [
    "import pyro\n",
    "import torch\n",
    "import pyro.distributions as dist\n",
    "\n",
    "import pyro.infer as infer"
   ]
  },
  {
   "cell_type": "code",
   "execution_count": 117,
   "metadata": {},
   "outputs": [],
   "source": [
    "true_coefs = torch.tensor([4, 7])"
   ]
  },
  {
   "cell_type": "code",
   "execution_count": 118,
   "metadata": {},
   "outputs": [],
   "source": [
    "data = torch.rand(2000, 2)\n",
    "eps = 0.002\n",
    "dim = 2\n",
    "labels = dist.Normal((true_coefs * data).sum(-1), torch.ones(len(data))*eps).sample()"
   ]
  },
  {
   "cell_type": "code",
   "execution_count": 146,
   "metadata": {},
   "outputs": [],
   "source": [
    "def model(data):\n",
    "    coefs_mean = torch.zeros(dim)\n",
    "    coefs = pyro.sample('beta', dist.Normal(coefs_mean, torch.ones(dim)))\n",
    "    y = pyro.sample('y', dist.Normal((coefs * data).sum(-1), torch.ones(len(data))*eps), obs=labels)\n",
    "    return y"
   ]
  },
  {
   "cell_type": "code",
   "execution_count": 147,
   "metadata": {},
   "outputs": [],
   "source": [
    "nuts_kernel = infer.NUTS(model, adapt_step_size=True)\n",
    "mcmc = infer.MCMC(nuts_kernel, num_samples=700, warmup_steps=300)"
   ]
  },
  {
   "cell_type": "code",
   "execution_count": 148,
   "metadata": {},
   "outputs": [
    {
     "name": "stderr",
     "output_type": "stream",
     "text": [
      "Sample: 100%|██████████| 1000/1000 [00:06, 157.60it/s, step size=9.05e-03, acc. prob=0.913]\n"
     ]
    },
    {
     "data": {
      "text/plain": [
       "tensor([4.0000, 7.0000])"
      ]
     },
     "execution_count": 148,
     "metadata": {},
     "output_type": "execute_result"
    }
   ],
   "source": [
    "mcmc.run(data)\n",
    "mcmc.get_samples()['beta'].mean(0)\n"
   ]
  },
  {
   "cell_type": "code",
   "execution_count": 154,
   "metadata": {},
   "outputs": [
    {
     "data": {
      "image/png": "[encoded data removed]",
      "text/plain": [
       "<Figure size 500x500 with 1 Axes>"
      ]
     },
     "metadata": {},
     "output_type": "display_data"
    }
   ],
   "source": [
    "import seaborn as sns\n",
    "import matplotlib.pyplot as plt\n",
    "sns.displot(mcmc.get_samples()['beta'].numpy()[:, 0], bins=30)\n",
    "plt.show()"
   ]
  },
  {
   "cell_type": "code",
   "execution_count": 151,
   "metadata": {},
   "outputs": [],
   "source": [
    "pred_coefs = mcmc.get_samples()['beta'].mean(0)\n",
    "y_hat = dist.Normal((pred_coefs * data).sum(-1), torch.ones(len(data))*eps).sample()"
   ]
  },
  {
   "cell_type": "code",
   "execution_count": null,
   "metadata": {},
   "outputs": [],
   "source": []
  }
 ],
 "metadata": {
  "kernelspec": {
   "display_name": "Python 3.9.12 ('base')",
   "language": "python",
   "name": "python3"
  },
  "language_info": {
   "codemirror_mode": {
    "name": "ipython",
    "version": 3
   },
   "file_extension": ".py",
   "mimetype": "text/x-python",
   "name": "python",
   "nbconvert_exporter": "python",
   "pygments_lexer": "ipython3",
   "version": "3.9.12"
  },
  "orig_nbformat": 4,
  "vscode": {
   "interpreter": {
    "hash": "d4d1e4263499bec80672ea0156c357c1ee493ec2b1c70f0acce89fc37c4a6abe"
   }
  }
 },
 "nbformat": 4,
 "nbformat_minor": 2
}
