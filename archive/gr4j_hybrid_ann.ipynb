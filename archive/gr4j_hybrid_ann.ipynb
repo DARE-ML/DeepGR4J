{
 "cells": [
  {
   "cell_type": "code",
   "execution_count": 18,
   "metadata": {},
   "outputs": [],
   "source": [
    "import os\n",
    "\n",
    "import matplotlib.pyplot as plt\n",
    "import seaborn as sns\n",
    "import pandas as pd\n",
    "import numpy as np\n",
    "\n",
    "import torch\n",
    "import torch.nn as nn\n",
    "import torch.distributions as dist\n",
    "\n",
    "from tqdm import tqdm\n",
    "\n",
    "from sklearn.metrics import mean_squared_error"
   ]
  },
  {
   "cell_type": "code",
   "execution_count": 2,
   "metadata": {},
   "outputs": [],
   "source": [
    "class GR4J(nn.Module):\n",
    "\n",
    "    def __init__(self, s_init=0, r_init=0):\n",
    "        super(GR4J, self).__init__()\n",
    "        self.s_init = s_init\n",
    "        self.r_init = r_init\n",
    "        self.x1 = torch.tensor(109.37118080390698)#dist.uniform.Uniform(100, 1200).sample()\n",
    "        self.h1 = nn.Linear(4, 32)\n",
    "        self.h2 = nn.Linear(32, 16)\n",
    "        self.h3 = nn.Linear(16, 4)\n",
    "        self.o = nn.Linear(4, 1)\n",
    "\n",
    "    \n",
    "    def forward(self, prec, etp):\n",
    "        \n",
    "        # Number of simulation timesteps\n",
    "        num_timesteps = len(prec)\n",
    "        \n",
    "        # Unpack the model parameters\n",
    "        x1 = self.x1\n",
    "\n",
    "        # Production Storage\n",
    "        p_n = torch.relu(prec - etp)\n",
    "        e_n = torch.relu(etp - prec)\n",
    "\n",
    "        # Production store\n",
    "        num_timesteps = len(prec)\n",
    "        p_s = torch.zeros(num_timesteps)\n",
    "        e_s = torch.zeros(num_timesteps)\n",
    "        perc = torch.zeros(num_timesteps)\n",
    "        s_store = torch.zeros(num_timesteps + 1)\n",
    "        s_store[0] = self.s_init * x1\n",
    "\n",
    "        for t in range(num_timesteps):\n",
    "            # calculate fraction of netto precipitation that fills\n",
    "            #  production store (eq. 3)\n",
    "            p_s[t] = ((x1 * (1 - (s_store[t-1] / x1)**2) * torch.tanh(p_n[t]/x1)) /\n",
    "                (1 + s_store[t-1] / x1 * torch.tanh(p_n[t] / x1)))\n",
    "\n",
    "            # from the production store (eq. 4)\n",
    "            e_s[t] = ((s_store[t-1] * (2 - s_store[t-1]/x1) * torch.tanh(e_n[t]/x1)) \n",
    "                / (1 + (1 - s_store[t-1] / x1) * torch.tanh(e_n[t] / x1)))\n",
    "\n",
    "            s_store[t] = s_store[t - 1] + p_s[t] - e_s[t]\n",
    "\n",
    "            # calculate percolation from actual storage level\n",
    "            perc[t] = s_store[t] * (1 - (1 + (4/9 * s_store[t] / x1)**4)**(-0.25))\n",
    "            \n",
    "            # final update of the production store for this timestep\n",
    "            s_store[t] = s_store[t] - perc[t]\n",
    "\n",
    "        # Expand dim\n",
    "        p_n = p_n[:, None]\n",
    "        e_n = e_n[:, None]\n",
    "        p_s = p_s[:, None] \n",
    "        perc = perc[:, None]\n",
    "        \n",
    "        # Concatenate\n",
    "        inp = torch.concat([p_n, e_n, p_s, perc], dim=1)\n",
    "\n",
    "        # ANN\n",
    "        out = self.h1(inp.float())\n",
    "        out = torch.relu(self.h3(self.h2(out)))\n",
    "        out = torch.relu(self.o(out)).flatten()\n",
    "\n",
    "        return out"
   ]
  },
  {
   "cell_type": "code",
   "execution_count": 3,
   "metadata": {},
   "outputs": [],
   "source": [
    "data_location = os.path.join('/data')"
   ]
  },
  {
   "cell_type": "code",
   "execution_count": 4,
   "metadata": {},
   "outputs": [],
   "source": [
    "# Calibration period\n",
    "calib_start_year = 1990\n",
    "calib_end_year = 2000\n",
    "\n",
    "# Holdout period\n",
    "holdout_start_year = 2000\n",
    "holdout_end_year = 2005"
   ]
  },
  {
   "cell_type": "code",
   "execution_count": 5,
   "metadata": {},
   "outputs": [],
   "source": [
    "# Load the data\n",
    "maulescreek_rain_et = pd.read_csv(\n",
    "    os.path.join(\n",
    "        data_location,\n",
    "        'SILO(-30.5,150.1)',\n",
    "        'FAO56_Penman_Monteith_1989.csv'\n",
    "    )\n",
    ")\n",
    "maulescreek_streamflow = pd.read_csv(\n",
    "    os.path.join(\n",
    "        data_location,\n",
    "        'water_level',\n",
    "        'bom_gauge_daily_mean_419051.csv'\n",
    "    )\n",
    ")\n",
    "\n",
    "# fix dates \n",
    "maulescreek_rain_et['Date'] = pd.to_datetime(maulescreek_rain_et['Date2'],format=\"%d-%m-%Y\")\n",
    "maulescreek_streamflow['Date'] = pd.to_datetime(maulescreek_streamflow['Timestamp'],utc=True, format='%Y-%m-%d')\n",
    "maulescreek_streamflow['Date'] = maulescreek_streamflow['Date'].dt.date\n",
    "maulescreek_streamflow['Date'] = pd.to_datetime(maulescreek_streamflow['Date'])"
   ]
  },
  {
   "cell_type": "code",
   "execution_count": 6,
   "metadata": {},
   "outputs": [],
   "source": [
    "def softplus(x):\n",
    "    return np.log(x+1)\n",
    "\n",
    "def desoftplus(x):\n",
    "    return np.exp(x)-1"
   ]
  },
  {
   "cell_type": "code",
   "execution_count": 7,
   "metadata": {},
   "outputs": [],
   "source": [
    "# maulescreek_streamflow['Log Value'] = softplus(maulescreek_streamflow['Value'])"
   ]
  },
  {
   "cell_type": "code",
   "execution_count": 8,
   "metadata": {},
   "outputs": [],
   "source": [
    "# sns.lineplot(x='Date', y='Log Value', data=maulescreek_streamflow)\n",
    "# sns.lineplot(x='Date', y='Value', data=maulescreek_streamflow)"
   ]
  },
  {
   "cell_type": "code",
   "execution_count": 9,
   "metadata": {},
   "outputs": [],
   "source": [
    "# \n",
    "merged_data = pd.merge(\n",
    "    maulescreek_rain_et,\n",
    "    maulescreek_streamflow,\n",
    "    left_on='Date',\n",
    "    right_on='Date'\n",
    ")\n",
    "\n",
    "# Slicing the data into calibration and holdout\n",
    "calibration_data = merged_data.loc[((merged_data['Date']).dt.year >= calib_start_year) & ((merged_data['Date']).dt.year < calib_end_year)].reset_index(drop=True)\n",
    "\n",
    "holdout_data = merged_data.loc[((merged_data['Date']).dt.year >= holdout_start_year) & ((merged_data['Date']).dt.year < holdout_end_year)].reset_index(drop=True)"
   ]
  },
  {
   "cell_type": "code",
   "execution_count": 10,
   "metadata": {},
   "outputs": [],
   "source": [
    "# Tune GR4J parameters\n",
    "prcp_calib = torch.from_numpy(calibration_data.loc[:, 'Rain'].values.astype('float32'))\n",
    "et_calib = torch.from_numpy(calibration_data.loc[:, 'FAO56'].values.astype('float32'))\n",
    "flow_calib = torch.from_numpy(calibration_data.loc[:, 'Value'].values.astype('float32'))\n",
    "date_calib = calibration_data.loc[:, 'Date'].values\n"
   ]
  },
  {
   "cell_type": "code",
   "execution_count": 19,
   "metadata": {},
   "outputs": [],
   "source": [
    "def nse(targets, predictions):\n",
    "    return 1-(np.sum((targets-predictions)**2)/np.sum((targets-np.mean(targets))**2))\n",
    "\n",
    "def normalize(x):\n",
    "    return 1/(2 - x)\n",
    "\n",
    "def evaluate(model, dates, et, prcp, flow):\n",
    "    \n",
    "    flow_pred = model(prcp, et)\n",
    "\n",
    "    # Desoftplus\n",
    "    flow_pred = flow_pred.detach().numpy()\n",
    "    flow = flow.detach().numpy()\n",
    "\n",
    "    nse_score = nse(flow, flow_pred)\n",
    "    nnse_score = normalize(nse_score)\n",
    "\n",
    "    print(f\"MSE: {mean_squared_error(flow, flow_pred):4f}\")\n",
    "\n",
    "    print(f\"NSE: {nse_score:.3f}\")\n",
    "    print(f\"Normalized NSE: {nnse_score:.3f}\")\n",
    "\n",
    "    fig, ax = plt.subplots(figsize=(16, 6))\n",
    "    ax.plot(dates, softplus(flow), color='black', label='obs', alpha=1.0)\n",
    "    ax.plot(dates, softplus(flow_pred), color='red', label='pred', alpha=0.7)\n",
    "    # ax.plot(dates, prcp.detach().numpy(), 'g--', label='precip', alpha=0.45)\n",
    "    # ax.plot(dates, et.detach().numpy(), 'y--', label='etp', alpha=0.45)\n",
    "\n",
    "    ax.set_xlabel('Date')\n",
    "    ax.set_ylabel('Flow')\n",
    "\n",
    "    plt.legend()\n",
    "\n",
    "    return flow_pred, flow"
   ]
  },
  {
   "cell_type": "code",
   "execution_count": 12,
   "metadata": {},
   "outputs": [
    {
     "data": {
      "text/plain": [
       "tensor([0.3797, 0.3826, 0.4057,  ..., 0.0874, 0.3132, 0.3392],\n",
       "       grad_fn=<ReshapeAliasBackward0>)"
      ]
     },
     "execution_count": 12,
     "metadata": {},
     "output_type": "execute_result"
    }
   ],
   "source": [
    "model = GR4J()\n",
    "opt = torch.optim.Adam(model.parameters(), lr=0.01)\n",
    "result = model(prec=prcp_calib, etp=et_calib)\n",
    "result"
   ]
  },
  {
   "cell_type": "code",
   "execution_count": 13,
   "metadata": {},
   "outputs": [
    {
     "name": "stderr",
     "output_type": "stream",
     "text": [
      "Epoch 200 loss: 28.2797: 100%|██████████| 200/200 [02:27<00:00,  1.36it/s]\n"
     ]
    }
   ],
   "source": [
    "N = 200\n",
    "\n",
    "pbar = tqdm(range(N))\n",
    "\n",
    "for epoch in pbar:\n",
    "\n",
    "    opt.zero_grad()\n",
    "\n",
    "    pred_flow = model(prcp_calib, et_calib)\n",
    "\n",
    "    loss = torch.nn.functional.mse_loss(flow_calib, pred_flow)\n",
    "\n",
    "    loss.backward()\n",
    "\n",
    "    opt.step()\n",
    "\n",
    "    pbar.set_description(f\"Epoch {epoch+1} loss: {loss.detach().numpy():.4f}\")"
   ]
  },
  {
   "cell_type": "code",
   "execution_count": 20,
   "metadata": {},
   "outputs": [
    {
     "name": "stdout",
     "output_type": "stream",
     "text": [
      "MSE: 43.904715\n",
      "NSE: -0.044\n",
      "Normalized NSE: 0.489\n"
     ]
    },
    {
     "data": {
      "image/png": "[encoded data removed]",
      "text/plain": [
       "<Figure size 1600x600 with 1 Axes>"
      ]
     },
     "metadata": {},
     "output_type": "display_data"
    }
   ],
   "source": [
    "# Evaluate on unseen data\n",
    "prcp_holdout = torch.from_numpy(holdout_data.loc[:, 'Rain'].values)\n",
    "et_holdout= torch.from_numpy(holdout_data.loc[:, 'FAO56'].values)\n",
    "flow_holdout = torch.from_numpy(holdout_data.loc[:, 'Value'].values)\n",
    "date_holdout = holdout_data.loc[:, 'Date'].values\n",
    "\n",
    "pred_flow, flow = evaluate(model, date_holdout, et_holdout, prcp_holdout, flow_holdout)"
   ]
  },
  {
   "cell_type": "code",
   "execution_count": null,
   "metadata": {},
   "outputs": [],
   "source": []
  }
 ],
 "metadata": {
  "kernelspec": {
   "display_name": "Python 3.9.12 ('base')",
   "language": "python",
   "name": "python3"
  },
  "language_info": {
   "codemirror_mode": {
    "name": "ipython",
    "version": 3
   },
   "file_extension": ".py",
   "mimetype": "text/x-python",
   "name": "python",
   "nbconvert_exporter": "python",
   "pygments_lexer": "ipython3",
   "version": "3.9.12"
  },
  "orig_nbformat": 4,
  "vscode": {
   "interpreter": {
    "hash": "d4d1e4263499bec80672ea0156c357c1ee493ec2b1c70f0acce89fc37c4a6abe"
   }
  }
 },
 "nbformat": 4,
 "nbformat_minor": 2
}
