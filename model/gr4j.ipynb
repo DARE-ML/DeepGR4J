{
 "cells": [
  {
   "cell_type": "code",
   "execution_count": 2,
   "metadata": {},
   "outputs": [],
   "source": [
    "import torch\n",
    "import torch.distributions as dist"
   ]
  },
  {
   "cell_type": "code",
   "execution_count": 17,
   "metadata": {},
   "outputs": [],
   "source": [
    "class GR4J(object):\n",
    "\n",
    "    _params = {\n",
    "        'x1': dist.uniform.Uniform(100, 1200).sample(),\n",
    "        'x2': dist.uniform.Uniform(-3, 5).sample(),\n",
    "        'x3': dist.uniform.Uniform(20, 300).sample(),\n",
    "        'x4': dist.uniform.Uniform(1, 3).sample()\n",
    "    }\n",
    "\n",
    "    def __init__(self, s_init=0, r_init=0):\n",
    "        self.s_init = s_init\n",
    "        self.r_init = r_init\n",
    "\n",
    "    def update_params(self, x1, x2, x3, x4):\n",
    "        self._params = {\n",
    "            'x1': x1,\n",
    "            'x2': x2,\n",
    "            'x3': x3,\n",
    "            'x4': x4\n",
    "        }\n",
    "\n",
    "    def _s_curve1(self, t, x4):\n",
    "        \"\"\"Calculate the s-curve of the unit-hydrograph 1.\n",
    "        \n",
    "        Args:\n",
    "            t: timestep\n",
    "            x4: model parameter x4 of the gr4j model.\n",
    "            \n",
    "        \"\"\"\n",
    "        if t <= 0:\n",
    "            return 0.\n",
    "        elif t < x4:\n",
    "            return (t / x4)**2.5\n",
    "        else:\n",
    "            return 1.\n",
    "\n",
    "\n",
    "    def _s_curve2(self, t, x4): \n",
    "        \"\"\"Calculate the s-curve of the unit-hydrograph 2.\n",
    "        \n",
    "        Args:\n",
    "            t: timestep\n",
    "            x4: model parameter x4 of the gr4j model.\n",
    "            \n",
    "        \"\"\"\n",
    "        if t <= 0:\n",
    "            return 0.\n",
    "        elif t <= x4:\n",
    "            return 0.5 * ((t / x4) ** 2.5)\n",
    "        elif t < 2*x4:\n",
    "            return 1 - 0.5 * ((2 - t / x4) ** 2.5)\n",
    "        else:\n",
    "            return 1.\n",
    "    \n",
    "    def run(self, prec, etp):\n",
    "        \n",
    "        # Number of simulation timesteps\n",
    "        num_timesteps = len(prec)\n",
    "        \n",
    "        # Unpack the model parameters\n",
    "        x1 = self._params['x1']\n",
    "        x2 = self._params['x2']\n",
    "        x3 = self._params['x3']\n",
    "        x4 = self._params['x4']\n",
    "        \n",
    "        # initialize empty arrays for discharge and all storages\n",
    "        s_store = torch.zeros(num_timesteps+1)\n",
    "        r_store = torch.zeros(num_timesteps+1)\n",
    "        qsim = torch.zeros(num_timesteps+1)\n",
    "        \n",
    "        # for clean array indexing, add 0 element at the 0th index of prec and \n",
    "        # etp so we start simulating at the index 1\n",
    "        prec = torch.concat((torch.zeros(1), prec))\n",
    "        etp = torch.concat((torch.zeros(1), etp))\n",
    "        \n",
    "        # set initial values\n",
    "        s_store[0] = self.s_init * x1\n",
    "        r_store[0] = self.r_init * x3\n",
    "        \n",
    "        # calculate number of unit hydrograph ordinates\n",
    "        num_uh1 = int(torch.ceil(x4))\n",
    "        num_uh2 = int(torch.ceil(2*x4 + 1))\n",
    "        \n",
    "        # calculate the ordinates of both unit-hydrographs (eq. 16 & 17)\n",
    "        uh1_ordinates = torch.zeros(num_uh1)\n",
    "        uh2_ordinates = torch.zeros(num_uh2)\n",
    "        \n",
    "        for j in range(1, num_uh1 + 1):\n",
    "            uh1_ordinates[j - 1] = self._s_curve1(j, x4) - self._s_curve1(j - 1, x4)\n",
    "            \n",
    "        for j in range(1, num_uh2 + 1):\n",
    "            uh2_ordinates[j - 1] = self._s_curve2(j, x4) - self._s_curve2(j - 1, x4)\n",
    "        \n",
    "        # arrys to store the rain distributed through the unit hydrographs\n",
    "        uh1 = torch.zeros(num_uh1)\n",
    "        uh2 = torch.zeros(num_uh2)\n",
    "        \n",
    "        # Start the model simulation loop\n",
    "        for t in range(1, num_timesteps+1):\n",
    "            \n",
    "            # Calculate netto precipitation and evaporation\n",
    "            if prec[t] >= etp[t]:\n",
    "                p_n = prec[t] - etp[t]\n",
    "                pe_n = 0\n",
    "            \n",
    "                # calculate fraction of netto precipitation that fills\n",
    "                #  production store (eq. 3)\n",
    "                p_s = ((x1 * (1 - (s_store[t-1] / x1)**2) * torch.tanh(p_n/x1)) /\n",
    "                    (1 + s_store[t-1] / x1 * torch.tanh(p_n / x1)))\n",
    "                \n",
    "                # no evaporation from production store\n",
    "                e_s = 0   \n",
    "            \n",
    "            else:\n",
    "                p_n = 0\n",
    "                pe_n = etp[t] - prec[t]\n",
    "                \n",
    "                # calculate the fraction of the evaporation that will evaporate \n",
    "                # from the production store (eq. 4)\n",
    "                e_s = ((s_store[t-1] * (2 - s_store[t-1]/x1) * torch.tanh(pe_n/x1)) \n",
    "                    / (1 + (1 - s_store[t-1] / x1) * torch.tanh(pe_n / x1)))\n",
    "                \n",
    "                # no rain that is allocation to the production store\n",
    "                p_s = 0\n",
    "                \n",
    "            # Calculate the new storage content\n",
    "            s_store[t] = s_store[t-1] - e_s + p_s\n",
    "            \n",
    "            # calculate percolation from actual storage level\n",
    "            perc = s_store[t] * (1 - (1 + (4/9 * s_store[t] / x1)**4)**(-0.25))\n",
    "            \n",
    "            # final update of the production store for this timestep\n",
    "            s_store[t] = s_store[t] - perc\n",
    "            \n",
    "            # total quantity of water that reaches the routing\n",
    "            p_r = perc + (p_n - p_s)\n",
    "            \n",
    "            # split this water quantity by .9/.1 for diff. routing (UH1 & UH2)\n",
    "            p_r_uh1 = 0.9 * p_r \n",
    "            p_r_uh2 = 0.1 * p_r\n",
    "            \n",
    "            # update state of rain, distributed through the unit hydrographs\n",
    "            for j in range(0, num_uh1 - 1):\n",
    "                uh1[j] = uh1[j + 1] + uh1_ordinates[j] * p_r_uh1\n",
    "            uh1[-1] = uh1_ordinates[-1] * p_r_uh1\n",
    "            \n",
    "            for j in range(0, num_uh2 - 1):\n",
    "                uh2[j] = uh2[j + 1] + uh2_ordinates[j] * p_r_uh2\n",
    "            uh2[-1] = uh2_ordinates[-1] * p_r_uh2\n",
    "            \n",
    "            # calculate the groundwater exchange F (eq. 18)\n",
    "            gw_exchange = x2 * (r_store[t - 1] / x3) ** 3.5\n",
    "            \n",
    "            # update routing store\n",
    "            r_store[t] = max(0, r_store[t - 1] + uh1[0] + gw_exchange)\n",
    "            \n",
    "            # outflow of routing store\n",
    "            q_r = r_store[t] * (1 - (1 + (r_store[t] / x3)**4)**(-0.25))\n",
    "            \n",
    "            # subtract outflow from routing store level\n",
    "            r_store[t] = r_store[t] - q_r\n",
    "            \n",
    "            # calculate flow component of unit hydrograph 2\n",
    "            q_d = max(0, uh2[0] + gw_exchange)\n",
    "            \n",
    "            # total discharge of this timestep\n",
    "            qsim[t] = q_r + q_d\n",
    "            \n",
    "        # return all but the artificial 0's step\n",
    "        return qsim[1:], s_store[1:], r_store[1:]"
   ]
  },
  {
   "cell_type": "code",
   "execution_count": 18,
   "metadata": {},
   "outputs": [],
   "source": [
    "import os\n",
    "\n",
    "import matplotlib.pyplot as plt\n",
    "import pandas as pd\n",
    "import numpy as np"
   ]
  },
  {
   "cell_type": "code",
   "execution_count": 5,
   "metadata": {},
   "outputs": [],
   "source": [
    "data_location = os.path.join('/data')"
   ]
  },
  {
   "cell_type": "code",
   "execution_count": 6,
   "metadata": {},
   "outputs": [],
   "source": [
    "# Calibration period\n",
    "calib_start_year = 1990\n",
    "calib_end_year = 2000"
   ]
  },
  {
   "cell_type": "code",
   "execution_count": 7,
   "metadata": {},
   "outputs": [],
   "source": [
    "# Load the data\n",
    "maulescreek_rain_et = pd.read_csv(\n",
    "    os.path.join(\n",
    "        data_location,\n",
    "        'SILO(-30.5,150.1)',\n",
    "        'FAO56_Penman_Monteith_1989.csv'\n",
    "    )\n",
    ")\n",
    "maulescreek_streamflow = pd.read_csv(\n",
    "    os.path.join(\n",
    "        data_location,\n",
    "        'water_level',\n",
    "        'bom_gauge_daily_mean_419051.csv'\n",
    "    )\n",
    ")\n",
    "\n",
    "# fix dates \n",
    "maulescreek_rain_et['Date'] = pd.to_datetime(maulescreek_rain_et['Date2'],format=\"%d-%m-%Y\")\n",
    "maulescreek_streamflow['Date'] = pd.to_datetime(maulescreek_streamflow['Timestamp'],utc=True, format='%Y-%m-%d')\n",
    "maulescreek_streamflow['Date'] = maulescreek_streamflow['Date'].dt.date\n",
    "maulescreek_streamflow['Date'] = pd.to_datetime(maulescreek_streamflow['Date'])"
   ]
  },
  {
   "cell_type": "code",
   "execution_count": 9,
   "metadata": {},
   "outputs": [],
   "source": [
    "# \n",
    "merged_data = pd.merge(\n",
    "    maulescreek_rain_et,\n",
    "    maulescreek_streamflow,\n",
    "    left_on='Date',\n",
    "    right_on='Date'\n",
    ")\n",
    "\n",
    "# Slicing the data into calibration and holdout\n",
    "calibration_data = merged_data.loc[((merged_data['Date']).dt.year >= calib_start_year) & ((merged_data['Date']).dt.year < calib_end_year)].reset_index(drop=True)"
   ]
  },
  {
   "cell_type": "code",
   "execution_count": 27,
   "metadata": {},
   "outputs": [],
   "source": [
    "# Tune GR4J parameters\n",
    "prcp_calib = torch.from_numpy(calibration_data.loc[:, 'Rain'].values)\n",
    "et_calib = torch.from_numpy(calibration_data.loc[:, 'FAO56'].values)\n",
    "flow_calib = torch.from_numpy(calibration_data.loc[:, 'Value'].values)\n",
    "date_calib = calibration_data.loc[:, 'Date'].values\n"
   ]
  },
  {
   "cell_type": "code",
   "execution_count": 28,
   "metadata": {},
   "outputs": [],
   "source": [
    "model = GR4J()\n",
    "\n",
    "model.update_params(\n",
    "    torch.tensor(109.37697209637108),\n",
    "    torch.tensor(2.1414661782132125), \n",
    "    torch.tensor(20.0),\n",
    "    torch.tensor(1.1)\n",
    ")\n",
    "\n",
    "result = model.run(prec=prcp_calib, etp=et_calib)"
   ]
  },
  {
   "cell_type": "code",
   "execution_count": 29,
   "metadata": {},
   "outputs": [
    {
     "data": {
      "text/plain": [
       "tensor([0.0000, 0.0000, 0.0000,  ..., 0.6106, 0.6066, 0.6026])"
      ]
     },
     "execution_count": 29,
     "metadata": {},
     "output_type": "execute_result"
    }
   ],
   "source": [
    "result[0]"
   ]
  },
  {
   "cell_type": "code",
   "execution_count": 37,
   "metadata": {},
   "outputs": [],
   "source": [
    "def nse(targets, predictions):\n",
    "    return 1-(torch.sum((targets-predictions)**2)/torch.sum((targets-torch.mean(targets))**2))\n",
    "\n",
    "def nnse(nse):\n",
    "    return 1/(2 - nse)\n",
    "\n",
    "def evaluate(model, dates, et, prcp, flow):\n",
    "    \n",
    "    flow_pred = model.run(prcp, et)[0]\n",
    "\n",
    "    nnse_score = nse(flow, flow_pred)\n",
    "    print(f\"Normalised NSE: {nnse_score:.3f}\")\n",
    "\n",
    "    fig, ax = plt.subplots(figsize=(16, 6))\n",
    "    ax.plot(dates, flow, label='obs')\n",
    "    ax.plot(dates, flow_pred, label='pred')\n",
    "\n",
    "    ax.set_xlabel('Date')\n",
    "    ax.set_ylabel('Flow')\n",
    "\n",
    "    plt.legend()"
   ]
  },
  {
   "cell_type": "code",
   "execution_count": 38,
   "metadata": {},
   "outputs": [
    {
     "name": "stdout",
     "output_type": "stream",
     "text": [
      "Normalised NSE: 0.127\n"
     ]
    },
    {
     "data": {
      "image/png": "[encoded data removed]",
      "text/plain": [
       "<Figure size 1600x600 with 1 Axes>"
      ]
     },
     "metadata": {},
     "output_type": "display_data"
    }
   ],
   "source": [
    "evaluate(model, date_calib,  et_calib, prcp_calib, flow_calib)"
   ]
  },
  {
   "cell_type": "code",
   "execution_count": null,
   "metadata": {},
   "outputs": [],
   "source": []
  }
 ],
 "metadata": {
  "kernelspec": {
   "display_name": "Python 3.9.12 ('base')",
   "language": "python",
   "name": "python3"
  },
  "language_info": {
   "codemirror_mode": {
    "name": "ipython",
    "version": 3
   },
   "file_extension": ".py",
   "mimetype": "text/x-python",
   "name": "python",
   "nbconvert_exporter": "python",
   "pygments_lexer": "ipython3",
   "version": "3.9.12"
  },
  "orig_nbformat": 4,
  "vscode": {
   "interpreter": {
    "hash": "d4d1e4263499bec80672ea0156c357c1ee493ec2b1c70f0acce89fc37c4a6abe"
   }
  }
 },
 "nbformat": 4,
 "nbformat_minor": 2
}
